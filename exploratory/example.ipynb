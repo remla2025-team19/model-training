{
 "cells": [
  {
   "cell_type": "code",
   "execution_count": null,
   "id": "f7d811e2",
   "metadata": {},
   "outputs": [],
   "source": [
    "# Example exploratory file\n",
    "from pathlib import Path\n",
    "from model_training.dataset import preprocess_data\n",
    "\n",
    "preprocess_data(Path(\"data/raw_data.csv\"), Path(\"data/processed_data.csv\"))"
   ]
  }
 ],
 "metadata": {
  "language_info": {
   "name": "python"
  }
 },
 "nbformat": 4,
 "nbformat_minor": 5
}
